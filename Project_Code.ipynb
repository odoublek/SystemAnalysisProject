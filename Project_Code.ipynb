{
 "cells": [
  {
   "cell_type": "code",
   "execution_count": 148,
   "metadata": {},
   "outputs": [],
   "source": [
    "import pandas as pd\n",
    "import numpy as np\n",
    "import math\n",
    "import matplotlib.pyplot as plt\n",
    "from scipy import linalg as alg\n",
    "\n",
    "\n",
    "# UK coal usage dat\n",
    "# Data Header\n",
    "#   0         1                       2                           3                           4               5                   6                  7                 8  \n",
    "# Year\tNumber of Deep Mines\tNumber of NCB2          \tNumber of Opencast Sites\tTotal Output3\tDeepmined Output\tOpencast Output4\tCoal Imports\tEmployment\n",
    "#   \tProducing Coal      \tMines at End of Year    \t Mines at End of Year    \tMillion tonnes\tMillion tonnes   \tMillion tonnes  \tMillion tonnes\tThousands\n",
    "# Global Temperature data -> to be converted to only UK temperature data\n",
    "# Data Header\n",
    "# dt,AverageTemperature,AverageTemperatureUncertainty,City,Country,Latitude,Longitude\n",
    "\n",
    "# 'coal.xls'\n",
    "# 'temp.csv'\n",
    "\n",
    "\n",
    "\n",
    "class model:\n",
    "    def __init__(self):\n",
    "        pass\n",
    "    \n",
    "    def getData(self, xDataFile, yDataFile):\n",
    "        self.X = pd.read_excel(xDataFile).values\n",
    "        self.X_years_label = self.X[25:-13,0]\n",
    "        self.Y = pd.read_csv(yDataFile)\n",
    "        self.X = self.X[25:-13,1:]     # The rest is description strings\n",
    "        self.Y = self.Y.values[30000:60000, :]\n",
    "    \n",
    "    def fixX(self):  # Changing NaN's with the column avgs\n",
    "        avgs = np.ones(self.X.shape[1])\n",
    "        for i in range(0,self.X.shape[1]):\n",
    "            for j in range(0,self.X.shape[0]):\n",
    "                if self.X[j,i] == '..':\n",
    "                    self.X[j,i] = -1\n",
    "        self.X = self.X.astype('float64')\n",
    "        nans = np.argwhere(self.X!=self.X)\n",
    "        for i in nans:\n",
    "            self.X[i] = -1\n",
    "        avg = 0\n",
    "        count = 0\n",
    "        avgs = np.ones(self.X.shape[1])\n",
    "        for i in range(0,self.X.shape[1]):\n",
    "            avg = 0\n",
    "            count = 0\n",
    "            for j in range(0,self.X.shape[0]):\n",
    "                if self.X[j,i] != -1:\n",
    "                    avg = avg + self.X[j,i]\n",
    "                    count = count + 1\n",
    "            avgs[i] = avg / count\n",
    "            avg = 0\n",
    "            count = 0\n",
    "        for i in range(0,self.X.shape[1]):\n",
    "            for j in range(0,self.X.shape[0]):\n",
    "                if(self.X[j,i] == -1):\n",
    "                    self.X[j,i] = avgs[i]\n",
    "        self.X = self.X[:-6,:].T\n",
    "        self.X_train = self.X[:,:80]\n",
    "        self.X_test = self.X[:,20:]\n",
    "                    \n",
    "    def fixY(self): # Getting the avgd temp data of UK between 1913-2013\n",
    "        count = 0\n",
    "        for i in range(self.Y.shape[1]):\n",
    "            for j in range(self.Y.shape[0]):\n",
    "                if self.Y[j,4] == 'United Kingdom':\n",
    "                    count = count + 1\n",
    "\n",
    "        y = np.empty([count, 2])\n",
    "        c = 0\n",
    "        for i in range(0, self.Y.shape[1]):\n",
    "            for j in range(0, self.Y.shape[0]):\n",
    "                if self.Y[j,4] == 'United Kingdom':\n",
    "                    y[c,0] = int(self.Y[j,0].split('-')[0])\n",
    "                    y[c,1] = self.Y[j,1]\n",
    "                    c = c + 1\n",
    "\n",
    "        y_avgD = np.zeros([2013-1743+1,2])\n",
    "        start_year = 1743\n",
    "        index = 0\n",
    "        for i in range(y.shape[0]):\n",
    "            index = int(y[i,0]-1743)\n",
    "            y_avgD[index,1] = y_avgD[index,1] + y[i, 1]\n",
    "            y_avgD[index,0] = y[i,0]\n",
    "        y_avgD[:,1] = y_avgD[:,1]/(2013-1743)\n",
    "        self.Y = y_avgD[170:-1,1]\n",
    "        self.Y_train = self.Y[:80]\n",
    "        self.Y_test = self.Y[20:]\n",
    "\n",
    "    \n",
    "    def fit(self):\n",
    "        self.coefficients = alg.inv(self.X_train @ self.X_train.T) @ self.X_train @ self.Y_train.T\n",
    "        return self.coefficients\n",
    "        \n",
    "    def predict(self):\n",
    "        self.y_pred = self.coefficients @ self.X_test\n",
    "        return self.y_pred\n",
    "    \n",
    "    def plot(self):\n",
    "        plt.plot(np.linspace(1,self.Y_test.shape[0],self.Y_test.shape[0]), self.Y_test, label='Test')\n",
    "        plt.plot(np.linspace(1,self.y_pred.shape[0],self.y_pred.shape[0]), self.y_pred, label='Prediction')\n",
    "        plt.legend()\n",
    "        plt.show()                                                        # Plotting the results\n",
    "    \n",
    "    def error(self):\n",
    "        self.error = np.abs(self.y_pred - self.Y_test).mean()/self.Y_test.mean()*100\n",
    "        return self.error\n",
    "        \n",
    "\n",
    "\n",
    "\n",
    "\n"
   ]
  },
  {
   "cell_type": "code",
   "execution_count": 149,
   "metadata": {},
   "outputs": [],
   "source": [
    "m = model()\n",
    "\n",
    "m.getData('coal.xls', 'temp.csv')\n",
    "m.fixX()\n",
    "m.fixY()\n"
   ]
  },
  {
   "cell_type": "code",
   "execution_count": 150,
   "metadata": {},
   "outputs": [
    {
     "data": {
      "image/png": "[encoded data removed]",
      "text/plain": [
       "<Figure size 432x288 with 1 Axes>"
      ]
     },
     "metadata": {
      "needs_background": "light"
     },
     "output_type": "display_data"
    },
    {
     "name": "stdout",
     "output_type": "stream",
     "text": [
      "Error:  17.319004967928038\n",
      "I had 100 years, used the first 80 to create coefficients, the rest to test\n"
     ]
    }
   ],
   "source": [
    "m.fit()\n",
    "m.predict()\n",
    "m.plot()\n",
    "print('Error: ', m.error())\n",
    "\n",
    "print('I had 100 years, used the first 80 to create coefficients, the rest to test')\n"
   ]
  }
 ],
 "metadata": {
  "kernelspec": {
   "display_name": "Python 3.10.8 64-bit",
   "language": "python",
   "name": "python3"
  },
  "language_info": {
   "codemirror_mode": {
    "name": "ipython",
    "version": 3
   },
   "file_extension": ".py",
   "mimetype": "text/x-python",
   "name": "python",
   "nbconvert_exporter": "python",
   "pygments_lexer": "ipython3",
   "version": "3.10.8"
  },
  "vscode": {
   "interpreter": {
    "hash": "65d28d527b9ca179b84722b3e8c38315d3afb382fc7f6fa9096fc677e000fdad"
   }
  }
 },
 "nbformat": 4,
 "nbformat_minor": 4
}
